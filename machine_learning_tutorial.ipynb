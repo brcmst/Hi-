{
  "nbformat": 4,
  "nbformat_minor": 0,
  "metadata": {
    "colab": {
      "name": "machine-learning-tutorial.ipynb",
      "provenance": []
    },
    "kernelspec": {
      "name": "python3",
      "display_name": "Python 3"
    },
    "language_info": {
      "name": "python"
    }
  },
  "cells": [
    {
      "cell_type": "markdown",
      "metadata": {
        "id": "JHvbRLQhprFC"
      },
      "source": [
        "**mean**: ortalama değer"
      ]
    },
    {
      "cell_type": "code",
      "metadata": {
        "colab": {
          "base_uri": "https://localhost:8080/"
        },
        "id": "O3fWUv9QpDYw",
        "outputId": "8f4cf344-6334-4c1f-f429-fbc9bc9723f6"
      },
      "source": [
        "import numpy\n",
        "x = [55,89,56,146,87,98,97,35,154,87,178,45]\n",
        "\n",
        "print(numpy.mean(x))\n"
      ],
      "execution_count": 1,
      "outputs": [
        {
          "output_type": "stream",
          "text": [
            "93.91666666666667\n"
          ],
          "name": "stdout"
        }
      ]
    },
    {
      "cell_type": "markdown",
      "metadata": {
        "id": "SXMBaKY6s3Rq"
      },
      "source": [
        "**median**: ortanca değer"
      ]
    },
    {
      "cell_type": "code",
      "metadata": {
        "id": "Wl4rPdP_pomL",
        "colab": {
          "base_uri": "https://localhost:8080/"
        },
        "outputId": "b6dea785-2212-4de3-8516-9e22fcbe5dc7"
      },
      "source": [
        "print(numpy.mean(x))"
      ],
      "execution_count": 2,
      "outputs": [
        {
          "output_type": "stream",
          "text": [
            "93.91666666666667\n"
          ],
          "name": "stdout"
        }
      ]
    },
    {
      "cell_type": "markdown",
      "metadata": {
        "id": "WC-ynMM5vXd8"
      },
      "source": [
        "**mode**: en yüksek değer"
      ]
    },
    {
      "cell_type": "code",
      "metadata": {
        "colab": {
          "base_uri": "https://localhost:8080/"
        },
        "id": "gsCTIy3yvypl",
        "outputId": "19a843c1-fee2-41d4-da78-ac49a45a676a"
      },
      "source": [
        "from scipy import stats\n",
        "\n",
        "print(stats.mode(x))"
      ],
      "execution_count": 3,
      "outputs": [
        {
          "output_type": "stream",
          "text": [
            "ModeResult(mode=array([87]), count=array([2]))\n"
          ],
          "name": "stdout"
        }
      ]
    },
    {
      "cell_type": "markdown",
      "metadata": {
        "id": "UGAa-0urxFV-"
      },
      "source": [
        "**varyans σ2**"
      ]
    },
    {
      "cell_type": "code",
      "metadata": {
        "colab": {
          "base_uri": "https://localhost:8080/"
        },
        "id": "16cykwy7wtnL",
        "outputId": "af440d74-0d0f-4bac-bf1f-ff56691118de"
      },
      "source": [
        "print(numpy.var(x))"
      ],
      "execution_count": 4,
      "outputs": [
        {
          "output_type": "stream",
          "text": [
            "1862.909722222222\n"
          ],
          "name": "stdout"
        }
      ]
    },
    {
      "cell_type": "markdown",
      "metadata": {
        "id": "HRWS7sG2wO0g"
      },
      "source": [
        "**standart sapma σ **- varyansın karekökü"
      ]
    },
    {
      "cell_type": "code",
      "metadata": {
        "colab": {
          "base_uri": "https://localhost:8080/"
        },
        "id": "0FLyrM5SwRKn",
        "outputId": "49e8676a-aca2-4551-c968-1a93bc8de465"
      },
      "source": [
        "print(numpy.std(x))"
      ],
      "execution_count": 5,
      "outputs": [
        {
          "output_type": "stream",
          "text": [
            "43.161437907259554\n"
          ],
          "name": "stdout"
        }
      ]
    },
    {
      "cell_type": "markdown",
      "metadata": {
        "id": "T3zzLz5kxk2-"
      },
      "source": [
        "**yüzdelik** - \n",
        "sınav not değerlerinin yüzde 50'sinin kaç olduğunu hesaplayalım"
      ]
    },
    {
      "cell_type": "code",
      "metadata": {
        "colab": {
          "base_uri": "https://localhost:8080/"
        },
        "id": "m_CpYML9xgyd",
        "outputId": "14b5d43d-0370-4631-923a-c75fd4de914f"
      },
      "source": [
        "notlar = [48,55,96,67,54,32,45,88,66,47,65,39]\n",
        "print(numpy.percentile(notlar,50))"
      ],
      "execution_count": 6,
      "outputs": [
        {
          "output_type": "stream",
          "text": [
            "54.5\n"
          ],
          "name": "stdout"
        }
      ]
    },
    {
      "cell_type": "markdown",
      "metadata": {
        "id": "oxfKTa9Ry5ZB"
      },
      "source": [
        "cevap 54.5 yani yüzde 50'si 54.5 ya da daha az puan almış"
      ]
    },
    {
      "cell_type": "markdown",
      "metadata": {
        "id": "-14ceBjO0zOF"
      },
      "source": [
        "**veri dağılımı - data distribution**  \n",
        "5 ile 15 arasında floatlardan 100 rastgele array oluşturalım"
      ]
    },
    {
      "cell_type": "code",
      "metadata": {
        "colab": {
          "base_uri": "https://localhost:8080/"
        },
        "id": "DhL-XBQU1X3m",
        "outputId": "563b5ab9-f735-4a07-e865-dd0769cab151"
      },
      "source": [
        "print(numpy.random.uniform(5.0,15.0,100))"
      ],
      "execution_count": 7,
      "outputs": [
        {
          "output_type": "stream",
          "text": [
            "[ 9.29248826  6.00801215 14.60932432  6.43836527  6.03271711 13.90136002\n",
            "  7.29377388  9.97969756  6.78583162 11.36795941  9.33022477 12.93228857\n",
            " 14.79873458 10.92715827  7.10775027  8.89693942  9.94915016  7.26620507\n",
            "  6.66122453  8.19386545  7.76963341  7.15110241 12.32640862  6.63566066\n",
            " 13.83716668  6.92335395  6.96623148  7.14009843  9.04104572  5.30696882\n",
            " 12.50097873 11.40341265 10.22858204  6.96033576 11.71834057  6.38589731\n",
            " 13.04361092 13.44392823  5.67741813  7.09360793 14.61249408  9.44406098\n",
            "  9.37261678  8.31814713 11.95925189 10.11865557  5.47316849  5.63615817\n",
            " 11.55622335 13.64863231 10.68501509  8.16790509  6.77178976 10.1962684\n",
            " 12.93048672 14.46388663  5.40731515  6.58664543  6.86973735  6.33619284\n",
            " 13.48023905  8.61876324  7.88936371 14.45266644 12.16442769 10.11542362\n",
            " 14.65023534  7.92639608 11.69764129  7.9551937  13.67472267  8.6170579\n",
            "  9.48543761  8.17829639  6.48003313 14.05377243 13.32119179 14.62129344\n",
            "  6.83364402  6.30534679 13.39201466 12.37874981 12.60886842  7.34085521\n",
            " 10.54826297 14.00263875  8.15296341  7.73637632  5.86556415 11.32340378\n",
            "  5.7922731  13.63495004  8.40440419  7.76365153  8.18025892  5.21306207\n",
            "  7.21943042 12.55957032 14.51078212 14.31676868]\n"
          ],
          "name": "stdout"
        }
      ]
    },
    {
      "cell_type": "markdown",
      "metadata": {
        "id": "PugY0ISH1vQX"
      },
      "source": [
        "**histogram** - gruplandırılmış bir veri dağılımının sütun grafiğiyle gösterimidir."
      ]
    },
    {
      "cell_type": "code",
      "metadata": {
        "colab": {
          "base_uri": "https://localhost:8080/",
          "height": 265
        },
        "id": "vvvvgUCU134d",
        "outputId": "4e698530-a60a-4f16-e524-4383d94a588c"
      },
      "source": [
        "import matplotlib.pyplot as plt\n",
        "\n",
        "veri = numpy.random.uniform(5.0,10.0,100)   # random 5 ile 10 arası sayı oluşturduk\n",
        "plt.hist(veri,15)\n",
        "plt.show()"
      ],
      "execution_count": 8,
      "outputs": [
        {
          "output_type": "display_data",
          "data": {
            "image/png": "[encoded data removed]",
            "text/plain": [
              "<Figure size 432x288 with 1 Axes>"
            ]
          },
          "metadata": {
            "tags": [],
            "needs_background": "light"
          }
        }
      ]
    },
    {
      "cell_type": "code",
      "metadata": {
        "colab": {
          "base_uri": "https://localhost:8080/",
          "height": 265
        },
        "id": "UfXcVVZW2lII",
        "outputId": "0596a00e-ac41-4866-8123-20d09c75d6e7"
      },
      "source": [
        "veri2 = numpy.random.normal(5.0,10.0,100000)   #normal data histogramı\n",
        "plt.hist(veri2,100)\n",
        "plt.show()"
      ],
      "execution_count": 9,
      "outputs": [
        {
          "output_type": "display_data",
          "data": {
            "image/png": "[encoded data removed]",
            "text/plain": [
              "<Figure size 432x288 with 1 Axes>"
            ]
          },
          "metadata": {
            "tags": [],
            "needs_background": "light"
          }
        }
      ]
    },
    {
      "cell_type": "markdown",
      "metadata": {
        "id": "-JuHMXHM6Ifp"
      },
      "source": [
        "**dağılım grafiği**- scatter plat\n"
      ]
    },
    {
      "cell_type": "code",
      "metadata": {
        "colab": {
          "base_uri": "https://localhost:8080/",
          "height": 265
        },
        "id": "MQHv2vE26QWG",
        "outputId": "aa4ad246-db24-491c-dda9-5430a3a7aef2"
      },
      "source": [
        "x = [5,7,8,7,2,17,2,9,4,11,12,9,6]\n",
        "y = [99,86,87,88,111,86,103,87,94,78,77,85,86]\n",
        "\n",
        "plt.scatter(x, y)\n",
        "plt.show()"
      ],
      "execution_count": 10,
      "outputs": [
        {
          "output_type": "display_data",
          "data": {
            "image/png": "[encoded data removed]",
            "text/plain": [
              "<Figure size 432x288 with 1 Axes>"
            ]
          },
          "metadata": {
            "tags": [],
            "needs_background": "light"
          }
        }
      ]
    },
    {
      "cell_type": "markdown",
      "metadata": {
        "id": "82zDGSOu7cUo"
      },
      "source": [
        "**regression** - gerileme\n",
        "gelecekteki olayların sonuç tahmininde kullanılır"
      ]
    },
    {
      "cell_type": "code",
      "metadata": {
        "colab": {
          "base_uri": "https://localhost:8080/",
          "height": 265
        },
        "id": "qc1t_Pu97g5f",
        "outputId": "1c6cc1b3-384e-41ca-a0fa-36273281691f"
      },
      "source": [
        "egim, tut, r, p, std_err= stats.linregress(x, y)\n",
        "\n",
        "def fonk(x):\n",
        "  return egim*x+tut\n",
        "\n",
        "model = list(map(fonk, x))\n",
        "\n",
        "plt.scatter(x,y)\n",
        "plt.plot(x,model)\n",
        "plt.show()"
      ],
      "execution_count": 11,
      "outputs": [
        {
          "output_type": "display_data",
          "data": {
            "image/png": "[encoded data removed]",
            "text/plain": [
              "<Figure size 432x288 with 1 Axes>"
            ]
          },
          "metadata": {
            "tags": [],
            "needs_background": "light"
          }
        }
      ]
    }
  ]
}