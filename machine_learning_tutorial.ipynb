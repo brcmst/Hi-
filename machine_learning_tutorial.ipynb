{
  "nbformat": 4,
  "nbformat_minor": 0,
  "metadata": {
    "colab": {
      "name": "machine-learning-tutorial.ipynb",
      "provenance": []
    },
    "kernelspec": {
      "name": "python3",
      "display_name": "Python 3"
    },
    "language_info": {
      "name": "python"
    }
  },
  "cells": [
    {
      "cell_type": "markdown",
      "metadata": {
        "id": "JHvbRLQhprFC"
      },
      "source": [
        "**mean**: ortalama değer"
      ]
    },
    {
      "cell_type": "code",
      "metadata": {
        "colab": {
          "base_uri": "https://localhost:8080/"
        },
        "id": "O3fWUv9QpDYw",
        "outputId": "276e7d51-b82a-48df-c962-1647cebf9279"
      },
      "source": [
        "import numpy\n",
        "x = [55,89,56,146,87,98,97,35,154,87,178,45]\n",
        "\n",
        "print(numpy.mean(x))\n"
      ],
      "execution_count": 10,
      "outputs": [
        {
          "output_type": "stream",
          "text": [
            "93.91666666666667\n"
          ],
          "name": "stdout"
        }
      ]
    },
    {
      "cell_type": "markdown",
      "metadata": {
        "id": "SXMBaKY6s3Rq"
      },
      "source": [
        "**median**: ortanca değer"
      ]
    },
    {
      "cell_type": "code",
      "metadata": {
        "id": "Wl4rPdP_pomL",
        "colab": {
          "base_uri": "https://localhost:8080/"
        },
        "outputId": "7ae26587-b07d-4a7f-f1a7-353c70036fed"
      },
      "source": [
        "print(numpy.mean(x))"
      ],
      "execution_count": 11,
      "outputs": [
        {
          "output_type": "stream",
          "text": [
            "93.91666666666667\n"
          ],
          "name": "stdout"
        }
      ]
    },
    {
      "cell_type": "markdown",
      "metadata": {
        "id": "WC-ynMM5vXd8"
      },
      "source": [
        "**mode**: en yüksek değer"
      ]
    },
    {
      "cell_type": "code",
      "metadata": {
        "colab": {
          "base_uri": "https://localhost:8080/"
        },
        "id": "gsCTIy3yvypl",
        "outputId": "0ac617ac-6fa3-41b9-bc92-787194536326"
      },
      "source": [
        "from scipy import stats\n",
        "\n",
        "print(stats.mode(x))"
      ],
      "execution_count": 12,
      "outputs": [
        {
          "output_type": "stream",
          "text": [
            "ModeResult(mode=array([87]), count=array([2]))\n"
          ],
          "name": "stdout"
        }
      ]
    },
    {
      "cell_type": "markdown",
      "metadata": {
        "id": "UGAa-0urxFV-"
      },
      "source": [
        "**varyans σ2**"
      ]
    },
    {
      "cell_type": "code",
      "metadata": {
        "colab": {
          "base_uri": "https://localhost:8080/"
        },
        "id": "16cykwy7wtnL",
        "outputId": "29733ed5-5b36-4d8d-b2ac-e140d3a27314"
      },
      "source": [
        "print(numpy.var(x))"
      ],
      "execution_count": 14,
      "outputs": [
        {
          "output_type": "stream",
          "text": [
            "1862.909722222222\n"
          ],
          "name": "stdout"
        }
      ]
    },
    {
      "cell_type": "markdown",
      "metadata": {
        "id": "HRWS7sG2wO0g"
      },
      "source": [
        "**standart sapma σ **- varyansın karekökü"
      ]
    },
    {
      "cell_type": "code",
      "metadata": {
        "colab": {
          "base_uri": "https://localhost:8080/"
        },
        "id": "0FLyrM5SwRKn",
        "outputId": "b1513dde-3fec-49f1-d19e-c17a6499fc5a"
      },
      "source": [
        "print(numpy.std(x))"
      ],
      "execution_count": 13,
      "outputs": [
        {
          "output_type": "stream",
          "text": [
            "43.161437907259554\n"
          ],
          "name": "stdout"
        }
      ]
    },
    {
      "cell_type": "markdown",
      "metadata": {
        "id": "T3zzLz5kxk2-"
      },
      "source": [
        "**yüzdelik** - \n",
        "sınav not değerlerinin yüzde 50'sinin kaç olduğunu hesaplayalım"
      ]
    },
    {
      "cell_type": "code",
      "metadata": {
        "colab": {
          "base_uri": "https://localhost:8080/"
        },
        "id": "m_CpYML9xgyd",
        "outputId": "d8081541-7932-4949-ec73-05d1f412c3de"
      },
      "source": [
        "notlar = [48,55,96,67,54,32,45,88,66,47,65,39]\n",
        "print(numpy.percentile(notlar,50))"
      ],
      "execution_count": 15,
      "outputs": [
        {
          "output_type": "stream",
          "text": [
            "54.5\n"
          ],
          "name": "stdout"
        }
      ]
    },
    {
      "cell_type": "markdown",
      "metadata": {
        "id": "oxfKTa9Ry5ZB"
      },
      "source": [
        "cevap 54.5 yani yüzde 50'si 54.5 ya da daha az puan almış"
      ]
    },
    {
      "cell_type": "markdown",
      "metadata": {
        "id": "-14ceBjO0zOF"
      },
      "source": [
        "**veri dağılımı - data distribution**  \n",
        "5 ile 15 arasında floatlardan 100 rastgele array oluşturalım"
      ]
    },
    {
      "cell_type": "code",
      "metadata": {
        "colab": {
          "base_uri": "https://localhost:8080/"
        },
        "id": "DhL-XBQU1X3m",
        "outputId": "ed492d89-037b-4b90-8e6d-b7e29601ac51"
      },
      "source": [
        "print(numpy.random.uniform(5.0,15.0,100))"
      ],
      "execution_count": 17,
      "outputs": [
        {
          "output_type": "stream",
          "text": [
            "[ 6.50951898 12.34694718 10.45871631 14.67104597 13.16104697  7.40798358\n",
            " 10.89803685 11.46248866  9.30301548  6.28022934  5.61360263 14.82287075\n",
            " 14.19004639 14.29611913 12.39420234  6.27130115 12.32266184 13.92877268\n",
            "  9.77571121  9.32114607 14.04231312 12.4424497   6.99464455  9.44682556\n",
            " 11.12704384  7.04086299 14.83140483 10.89958766 13.50314359 14.75786797\n",
            " 14.45939866 11.44107992  6.18745184 11.25578646  5.3279105   6.42970489\n",
            " 12.44883103 10.67068479  5.2172069   8.02049201  8.27449173  7.6411231\n",
            "  9.74169042  8.68562492 11.09260608 14.68250007 12.81582954 14.31974463\n",
            "  9.84958496  9.4117275  11.52807705  9.20344829 13.23258202  5.67049496\n",
            "  8.1099308  14.89256188  7.74662452 13.49292068  8.00615845  8.82661701\n",
            " 12.19011208 13.2989832  10.22038097  9.27012237 11.43593881  7.5382849\n",
            "  6.71388404 13.17845958 12.71499959  7.36744681  9.57885863  8.39914034\n",
            " 12.43337249 13.22381441  6.73033249  7.23039588 10.63942152  5.48977499\n",
            " 10.63281181  9.76024145  8.39904237 11.50985642  7.47097304  8.63554216\n",
            "  6.23076441  7.86936132 10.43117266 13.06161274 11.1558362  13.97836759\n",
            " 13.75686893 10.50650858 12.22095828  6.2350619   8.26941167  7.7252838\n",
            "  9.19629841 13.77958183  5.61508486 12.44636538]\n"
          ],
          "name": "stdout"
        }
      ]
    },
    {
      "cell_type": "markdown",
      "metadata": {
        "id": "PugY0ISH1vQX"
      },
      "source": [
        "**histogram** - gruplandırılmış bir veri dağılımının sütun grafiğiyle gösterimidir."
      ]
    },
    {
      "cell_type": "code",
      "metadata": {
        "colab": {
          "base_uri": "https://localhost:8080/",
          "height": 265
        },
        "id": "vvvvgUCU134d",
        "outputId": "d271d08c-7e70-4550-cf17-f0c1eb7d6fc1"
      },
      "source": [
        "import matplotlib.pyplot as plt\n",
        "\n",
        "veri = numpy.random.uniform(5.0,10.0,100)   # random 5 ile 10 arası sayı oluşturduk\n",
        "plt.hist(veri,15)\n",
        "plt.show()"
      ],
      "execution_count": 20,
      "outputs": [
        {
          "output_type": "display_data",
          "data": {
            "image/png": "[encoded data removed]",
            "text/plain": [
              "<Figure size 432x288 with 1 Axes>"
            ]
          },
          "metadata": {
            "tags": [],
            "needs_background": "light"
          }
        }
      ]
    },
    {
      "cell_type": "code",
      "metadata": {
        "colab": {
          "base_uri": "https://localhost:8080/",
          "height": 265
        },
        "id": "UfXcVVZW2lII",
        "outputId": "4d61653a-37d5-4216-b2fa-2df102a49e1a"
      },
      "source": [
        "veri2 = numpy.random.normal(5.0,10.0,100000)   #normal data histogramı\n",
        "plt.hist(veri2,100)\n",
        "plt.show()"
      ],
      "execution_count": 27,
      "outputs": [
        {
          "output_type": "display_data",
          "data": {
            "image/png": "[encoded data removed]",
            "text/plain": [
              "<Figure size 432x288 with 1 Axes>"
            ]
          },
          "metadata": {
            "tags": [],
            "needs_background": "light"
          }
        }
      ]
    },
    {
      "cell_type": "markdown",
      "metadata": {
        "id": "-JuHMXHM6Ifp"
      },
      "source": [
        "**dağılım grafiği**- scatter plat\n"
      ]
    },
    {
      "cell_type": "code",
      "metadata": {
        "colab": {
          "base_uri": "https://localhost:8080/",
          "height": 265
        },
        "id": "MQHv2vE26QWG",
        "outputId": "c32072bc-e205-4899-8834-349cec815200"
      },
      "source": [
        "x = [5,7,8,7,2,17,2,9,4,11,12,9,6]\n",
        "y = [99,86,87,88,111,86,103,87,94,78,77,85,86]\n",
        "\n",
        "plt.scatter(x, y)\n",
        "plt.show()"
      ],
      "execution_count": 33,
      "outputs": [
        {
          "output_type": "display_data",
          "data": {
            "image/png": "[encoded data removed]",
            "text/plain": [
              "<Figure size 432x288 with 1 Axes>"
            ]
          },
          "metadata": {
            "tags": [],
            "needs_background": "light"
          }
        }
      ]
    },
    {
      "cell_type": "markdown",
      "metadata": {
        "id": "82zDGSOu7cUo"
      },
      "source": [
        "**regression** - gerileme\n",
        "gelecekteki olayların sonuç tahmininde kullanılır"
      ]
    },
    {
      "cell_type": "code",
      "metadata": {
        "colab": {
          "base_uri": "https://localhost:8080/",
          "height": 265
        },
        "id": "qc1t_Pu97g5f",
        "outputId": "82301787-6fe4-45bf-aae4-3521a1afb80f"
      },
      "source": [
        "egim, tut, r, p, std_err= stats.linregress(x, y)\n",
        "\n",
        "def fonk(x):\n",
        "  return egim*x+tut\n",
        "\n",
        "model = list(map(fonk, x))\n",
        "\n",
        "plt.scatter(x,y)\n",
        "plt.plot(x,model)\n",
        "plt.show()"
      ],
      "execution_count": 38,
      "outputs": [
        {
          "output_type": "display_data",
          "data": {
            "image/png": "[encoded data removed]",
            "text/plain": [
              "<Figure size 432x288 with 1 Axes>"
            ]
          },
          "metadata": {
            "tags": [],
            "needs_background": "light"
          }
        }
      ]
    },
    {
      "cell_type": "markdown",
      "metadata": {
        "id": "ldlAB0iF-lWJ"
      },
      "source": [
        ""
      ]
    }
  ]
}